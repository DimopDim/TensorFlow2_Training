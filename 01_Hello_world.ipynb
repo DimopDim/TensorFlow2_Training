{
 "cells": [
  {
   "cell_type": "code",
   "execution_count": 1,
   "id": "99bc99c1-9f93-4dfc-a33c-b4eba599f6fb",
   "metadata": {},
   "outputs": [],
   "source": [
    "\"\"\"\n",
    "Show tensorflow version\n",
    "Print simple message.\n",
    "\"\"\"\n",
    "\n",
    "import tensorflow as tf"
   ]
  },
  {
   "cell_type": "code",
   "execution_count": null,
   "id": "a83fbcdc-be18-4df7-9130-0a3f1dd51db8",
   "metadata": {},
   "outputs": [],
   "source": [
    "print(tf.__version__)"
   ]
  },
  {
   "cell_type": "code",
   "execution_count": 2,
   "id": "1ff1bc66-16e4-446f-8e5c-7bade4b16d59",
   "metadata": {},
   "outputs": [
    {
     "name": "stdout",
     "output_type": "stream",
     "text": [
      "tf.Tensor(b'Hello World!', shape=(), dtype=string)\n"
     ]
    }
   ],
   "source": [
    "h = tf.constant(\"Hello \")\n",
    "w = tf.constant(\"World!\")\n",
    "hw = h+w\n",
    "print (hw)"
   ]
  },
  {
   "cell_type": "code",
   "execution_count": 3,
   "id": "7b28c072-8c04-4f12-9c51-d32e89970409",
   "metadata": {},
   "outputs": [
    {
     "name": "stdout",
     "output_type": "stream",
     "text": [
      "2.10.0\n"
     ]
    }
   ],
   "source": []
  }
 ],
 "metadata": {
  "kernelspec": {
   "display_name": "Python 3 (ipykernel)",
   "language": "python",
   "name": "python3"
  },
  "language_info": {
   "codemirror_mode": {
    "name": "ipython",
    "version": 3
   },
   "file_extension": ".py",
   "mimetype": "text/x-python",
   "name": "python",
   "nbconvert_exporter": "python",
   "pygments_lexer": "ipython3",
   "version": "3.10.9"
  }
 },
 "nbformat": 4,
 "nbformat_minor": 5
}
