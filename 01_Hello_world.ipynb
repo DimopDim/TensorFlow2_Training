{
 "cells": [
  {
   "cell_type": "code",
   "execution_count": 1,
   "id": "99bc99c1-9f93-4dfc-a33c-b4eba599f6fb",
   "metadata": {},
   "outputs": [],
   "source": [
    "\"\"\"\n",
    "Print simple message.\n",
    "\"\"\"\n",
    "\n",
    "import tensorflow as tf"
   ]
  },
  {
   "cell_type": "code",
   "execution_count": 2,
   "id": "1ff1bc66-16e4-446f-8e5c-7bade4b16d59",
   "metadata": {},
   "outputs": [
    {
     "name": "stdout",
     "output_type": "stream",
     "text": [
      "tf.Tensor(b'Hello World!', shape=(), dtype=string)\n"
     ]
    }
   ],
   "source": [
    "h = tf.constant(\"Hello \")\n",
    "w = tf.constant(\"World!\")\n",
    "hw = h+w\n",
    "print (hw)"
   ]
  }
 ],
 "metadata": {
  "kernelspec": {
   "display_name": "Python 3 (ipykernel)",
   "language": "python",
   "name": "python3"
  },
  "language_info": {
   "codemirror_mode": {
    "name": "ipython",
    "version": 3
   },
   "file_extension": ".py",
   "mimetype": "text/x-python",
   "name": "python",
   "nbconvert_exporter": "python",
   "pygments_lexer": "ipython3",
   "version": "3.9.15"
  }
 },
 "nbformat": 4,
 "nbformat_minor": 5
}
