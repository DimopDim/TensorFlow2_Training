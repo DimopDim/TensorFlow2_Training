{
 "cells": [
  {
   "cell_type": "code",
   "execution_count": 1,
   "id": "2dde7c40-f2a3-4a49-93c8-649f5e28465e",
   "metadata": {},
   "outputs": [],
   "source": [
    "\"\"\"\n",
    "We go through the most basic and essential tensor operations\n",
    "that really build the foundation to TensorFlow 2.0 and is\n",
    "important to know before moving on to building neural networks\n",
    "\"\"\"\n",
    "\n",
    "import tensorflow as tf"
   ]
  },
  {
   "cell_type": "markdown",
   "id": "c94d6d38-0601-4d6c-85b2-8e2cb4a1ca9f",
   "metadata": {
    "tags": []
   },
   "source": [
    "## Tensor Initialization"
   ]
  },
  {
   "cell_type": "code",
   "execution_count": 2,
   "id": "94d18b2e-7cbe-4319-aa43-a9bc8b1d4c53",
   "metadata": {},
   "outputs": [
    {
     "name": "stdout",
     "output_type": "stream",
     "text": [
      "tf.Tensor([[4.]], shape=(1, 1), dtype=float32)\n"
     ]
    }
   ],
   "source": [
    "x = tf.constant(4, shape=(1, 1), dtype=tf.float32)\n",
    "print(x)"
   ]
  },
  {
   "cell_type": "code",
   "execution_count": 3,
   "id": "f89c330e-b0f1-4749-97ed-7aa40e9c30f8",
   "metadata": {},
   "outputs": [
    {
     "name": "stdout",
     "output_type": "stream",
     "text": [
      "tf.Tensor(\n",
      "[[1 2 3]\n",
      " [4 5 6]], shape=(2, 3), dtype=int32)\n"
     ]
    }
   ],
   "source": [
    "# Matrix of three colums and two rows (2 by 3 matrix)\n",
    "x = tf.constant([[1,2,3],[4,5,6]])\n",
    "print(x)"
   ]
  },
  {
   "cell_type": "code",
   "execution_count": 4,
   "id": "a22462e8-904e-4b1c-ac04-477e0d149a8e",
   "metadata": {},
   "outputs": [
    {
     "name": "stdout",
     "output_type": "stream",
     "text": [
      "tf.Tensor(\n",
      "[[1. 1. 1.]\n",
      " [1. 1. 1.]\n",
      " [1. 1. 1.]], shape=(3, 3), dtype=float32)\n"
     ]
    }
   ],
   "source": [
    "# 3 by 3 matrix with values of 1\n",
    "x = tf.ones((3,3))\n",
    "print(x)"
   ]
  },
  {
   "cell_type": "code",
   "execution_count": 5,
   "id": "2762494c-7c79-4e8c-a361-4777226cfa92",
   "metadata": {},
   "outputs": [
    {
     "name": "stdout",
     "output_type": "stream",
     "text": [
      "tf.Tensor(\n",
      "[[0. 0. 0.]\n",
      " [0. 0. 0.]], shape=(2, 3), dtype=float32)\n"
     ]
    }
   ],
   "source": [
    "# 2 by 3 matrix with values of zeros\n",
    "x = tf.zeros((2,3))\n",
    "print(x)"
   ]
  },
  {
   "cell_type": "code",
   "execution_count": 6,
   "id": "6ffe1162-867f-4822-b8c7-242fe3471b9c",
   "metadata": {},
   "outputs": [
    {
     "name": "stdout",
     "output_type": "stream",
     "text": [
      "tf.Tensor(\n",
      "[[1. 0. 0. 0.]\n",
      " [0. 1. 0. 0.]\n",
      " [0. 0. 1. 0.]\n",
      " [0. 0. 0. 1.]], shape=(4, 4), dtype=float32)\n"
     ]
    }
   ],
   "source": [
    "\"\"\"\n",
    "In linear algebra, the identity or identity matrix\n",
    "is the matrix that has ONE in all elements of the\n",
    "main diagonal and ZERO in all other elements.\n",
    "\"\"\"\n",
    "\n",
    "# 4 by 4 matrix with values of 1\n",
    "x = tf.eye(4) # I (eye) for the identity matrix\n",
    "print(x)"
   ]
  },
  {
   "cell_type": "code",
   "execution_count": 7,
   "id": "cdc87c65-b372-4185-99dc-a8fab8ff344e",
   "metadata": {},
   "outputs": [
    {
     "name": "stdout",
     "output_type": "stream",
     "text": [
      "tf.Tensor(\n",
      "[[-0.4080014   0.07598507  2.1619554 ]\n",
      " [ 0.55590314 -1.6559517   0.36959133]\n",
      " [-1.3597547  -0.22469907 -0.69876945]], shape=(3, 3), dtype=float32)\n"
     ]
    }
   ],
   "source": [
    "# ???\n",
    "x = tf.random.normal((3,3), mean=0, stddev=1)\n",
    "print(x)"
   ]
  },
  {
   "cell_type": "code",
   "execution_count": 8,
   "id": "30c7cf5c-82bd-4d04-9545-9ae2704dce36",
   "metadata": {},
   "outputs": [
    {
     "name": "stdout",
     "output_type": "stream",
     "text": [
      "tf.Tensor(\n",
      "[[0.77365017 0.47819734 0.08265984]\n",
      " [0.84914124 0.12654293 0.63116264]], shape=(2, 3), dtype=float32)\n"
     ]
    }
   ],
   "source": [
    "# Values between zero and one in a 2 by 3 matrix\n",
    "\n",
    "x = tf.random.uniform((2,3), minval=0, maxval=1)\n",
    "print(x)"
   ]
  },
  {
   "cell_type": "code",
   "execution_count": 9,
   "id": "21f1c250-9f26-4d83-b5a5-f2dd956d5360",
   "metadata": {},
   "outputs": [
    {
     "name": "stdout",
     "output_type": "stream",
     "text": [
      "tf.Tensor([1 3 5 7 9], shape=(5,), dtype=int32)\n"
     ]
    }
   ],
   "source": [
    "# Vector of values starting from one and ends at nine\n",
    "# delta set the step\n",
    "x = tf.range(start=1, limit=10, delta=2)\n",
    "print(x)"
   ]
  },
  {
   "cell_type": "code",
   "execution_count": 10,
   "id": "dfc7134b-dc69-43b3-a7db-7243dd7524a1",
   "metadata": {},
   "outputs": [
    {
     "name": "stdout",
     "output_type": "stream",
     "text": [
      "tf.Tensor([1. 3. 5. 7. 9.], shape=(5,), dtype=float64)\n"
     ]
    }
   ],
   "source": [
    "# Convert x to a specific type\n",
    "# tf.float(16, 32, 64), tf.int(8, 16, 32, 64), tf.bool\n",
    "\n",
    "x = tf.cast(x, dtype=tf.float64)\n",
    "print(x)"
   ]
  },
  {
   "cell_type": "markdown",
   "id": "6b192f5a-3e98-4ea6-9407-9d94d31bd14c",
   "metadata": {
    "tags": []
   },
   "source": [
    "## Tensor Mathematical Operations"
   ]
  },
  {
   "cell_type": "code",
   "execution_count": 11,
   "id": "ff1ea30c-89c9-4c17-8dd8-4a1f77628655",
   "metadata": {},
   "outputs": [],
   "source": [
    "x = tf.constant([1,2,3])\n",
    "y = tf.constant([9,8,7])"
   ]
  },
  {
   "cell_type": "code",
   "execution_count": 12,
   "id": "8fc29a6e-2d0c-4d23-b487-d725a4b7c811",
   "metadata": {},
   "outputs": [
    {
     "name": "stdout",
     "output_type": "stream",
     "text": [
      "tf.Tensor([10 10 10], shape=(3,), dtype=int32)\n",
      "tf.Tensor([10 10 10], shape=(3,), dtype=int32)\n"
     ]
    }
   ],
   "source": [
    "# Adding vectors (1+9 | 2+8 | 3+7)\n",
    "z = tf.add(x, y)\n",
    "print(z)\n",
    "\n",
    "# OR\n",
    "\n",
    "print(x + y)"
   ]
  },
  {
   "cell_type": "code",
   "execution_count": 13,
   "id": "89eba169-d384-4d65-a842-c4091ccf6037",
   "metadata": {},
   "outputs": [
    {
     "name": "stdout",
     "output_type": "stream",
     "text": [
      "tf.Tensor([-8 -6 -4], shape=(3,), dtype=int32)\n",
      "tf.Tensor([-8 -6 -4], shape=(3,), dtype=int32)\n"
     ]
    }
   ],
   "source": [
    "# Subtract vectors (1-9 | 2-8 | 3-7)\n",
    "z = tf.subtract(x, y)\n",
    "print(z)\n",
    "\n",
    "# OR\n",
    "\n",
    "print(x - y)"
   ]
  },
  {
   "cell_type": "code",
   "execution_count": 14,
   "id": "280be3bb-3eb0-4775-a5d8-b8b7a7088e84",
   "metadata": {},
   "outputs": [
    {
     "name": "stdout",
     "output_type": "stream",
     "text": [
      "tf.Tensor([0.11111111 0.25       0.42857143], shape=(3,), dtype=float64)\n",
      "tf.Tensor([0.11111111 0.25       0.42857143], shape=(3,), dtype=float64)\n"
     ]
    }
   ],
   "source": [
    "# Divide vectors (1/9 | 2/8 | 3/7)\n",
    "z = tf.divide(x, y)\n",
    "print(z)\n",
    "\n",
    "# OR\n",
    "\n",
    "print(x/y)"
   ]
  },
  {
   "cell_type": "code",
   "execution_count": 15,
   "id": "a32aad1d-c5c9-47a8-885d-044c1f048ddc",
   "metadata": {},
   "outputs": [
    {
     "name": "stdout",
     "output_type": "stream",
     "text": [
      "tf.Tensor([ 9 16 21], shape=(3,), dtype=int32)\n",
      "tf.Tensor([ 9 16 21], shape=(3,), dtype=int32)\n"
     ]
    }
   ],
   "source": [
    "# Multiply vectors (1*9 | 2*8 | 3*7)\n",
    "z = tf.multiply(x, y)\n",
    "print(z)\n",
    "\n",
    "# OR\n",
    "\n",
    "print(x*y)"
   ]
  },
  {
   "cell_type": "code",
   "execution_count": 16,
   "id": "9fa3c0db-6853-4844-8107-60ab92993aad",
   "metadata": {},
   "outputs": [
    {
     "name": "stdout",
     "output_type": "stream",
     "text": [
      "tf.Tensor(46, shape=(), dtype=int32)\n"
     ]
    }
   ],
   "source": [
    "\"\"\"In mathematics, the dot product\n",
    "is an algebraic operationthat takes\n",
    "two sequences of numbers of equal\n",
    "length and adds their product\n",
    "\n",
    "x = tf.constant([1,2,3])\n",
    "y = tf.constant([9,8,7])\n",
    "\n",
    "z = (1*9) + (2*8) + (3*7)\n",
    "\"\"\"\n",
    "\n",
    "z = tf.tensordot(x, y, axes=1)\n",
    "print(z)"
   ]
  },
  {
   "cell_type": "code",
   "execution_count": 17,
   "id": "1b295185-a2d6-40dc-b9d2-6916b8dd1b01",
   "metadata": {},
   "outputs": [
    {
     "name": "stdout",
     "output_type": "stream",
     "text": [
      "tf.Tensor([  1  32 243], shape=(3,), dtype=int32)\n"
     ]
    }
   ],
   "source": [
    "# Multiply every element with a number\n",
    "\n",
    "z = x**5\n",
    "print(z)"
   ]
  },
  {
   "cell_type": "code",
   "execution_count": 18,
   "id": "c36ee610-baee-4115-8b4b-0aa37b2aeb42",
   "metadata": {},
   "outputs": [
    {
     "name": "stdout",
     "output_type": "stream",
     "text": [
      "tf.Tensor(\n",
      "[[ 2.8913946 -4.576058   1.1182126 -3.3144627]\n",
      " [-2.0845659  4.0514665 -0.215361   3.341424 ]\n",
      " [-1.1160663  3.847392   1.8725822  2.3342535]], shape=(3, 4), dtype=float32)\n",
      "tf.Tensor(\n",
      "[[ 2.8913946 -4.576058   1.1182126 -3.3144627]\n",
      " [-2.0845659  4.0514665 -0.215361   3.341424 ]\n",
      " [-1.1160663  3.847392   1.8725822  2.3342535]], shape=(3, 4), dtype=float32)\n"
     ]
    }
   ],
   "source": [
    "\"\"\"\n",
    "For matrix multiplication, the\n",
    "number of columns in the first matrix\n",
    "must be equal to the number of rows in\n",
    "the second matrix.\n",
    "The result matrix has the number of rows\n",
    "of the first and the number of columns of\n",
    "the second matrix.\n",
    "\"\"\"\n",
    "\n",
    "# Matrix Multipication\n",
    "\n",
    "x = tf.random.normal((3,5))\n",
    "y = tf.random.normal((5,4))\n",
    "\n",
    "z = tf.matmul(x, y)\n",
    "print(z)\n",
    "# OR\n",
    "\n",
    "z = x @ y\n",
    "print(z)"
   ]
  },
  {
   "cell_type": "markdown",
   "id": "cf53ca58-b0ab-4ae0-964f-238791040d15",
   "metadata": {
    "tags": []
   },
   "source": [
    "## Tensor Indexing"
   ]
  },
  {
   "cell_type": "code",
   "execution_count": 19,
   "id": "1355f551-c0fa-45a1-a1bd-48342fb43313",
   "metadata": {},
   "outputs": [],
   "source": [
    "x = tf.constant([0,1,1,2,3,1,2,3])"
   ]
  },
  {
   "cell_type": "code",
   "execution_count": 20,
   "id": "5c8fe1f5-5c7a-4322-9c2f-67202cf0f8f9",
   "metadata": {},
   "outputs": [
    {
     "name": "stdout",
     "output_type": "stream",
     "text": [
      "tf.Tensor([0 1 1 2 3 1 2 3], shape=(8,), dtype=int32)\n"
     ]
    }
   ],
   "source": [
    "# Print all elements\n",
    "print(x[:])"
   ]
  },
  {
   "cell_type": "code",
   "execution_count": 21,
   "id": "52ff3d53-e101-47e4-83eb-2b753171acc0",
   "metadata": {},
   "outputs": [
    {
     "name": "stdout",
     "output_type": "stream",
     "text": [
      "tf.Tensor([1 1 2 3 1 2 3], shape=(7,), dtype=int32)\n"
     ]
    }
   ],
   "source": [
    "# Exlude first element from printing\n",
    "print(x[1:])"
   ]
  },
  {
   "cell_type": "code",
   "execution_count": 22,
   "id": "3273f655-c4e1-4eb3-8c25-c91e2c96a537",
   "metadata": {},
   "outputs": [
    {
     "name": "stdout",
     "output_type": "stream",
     "text": [
      "tf.Tensor([1 1], shape=(2,), dtype=int32)\n"
     ]
    }
   ],
   "source": [
    "# Print only second and third element\n",
    "print(x[1:3])"
   ]
  },
  {
   "cell_type": "code",
   "execution_count": 23,
   "id": "a6f49548-4001-4c26-967e-fbcf3d5969a6",
   "metadata": {},
   "outputs": [
    {
     "name": "stdout",
     "output_type": "stream",
     "text": [
      "tf.Tensor([0 1 3 2], shape=(4,), dtype=int32)\n"
     ]
    }
   ],
   "source": [
    "# Print element by step 2\n",
    "print(x[::2])"
   ]
  },
  {
   "cell_type": "code",
   "execution_count": 24,
   "id": "d3cf5991-7b30-47f4-9389-6412f0977785",
   "metadata": {},
   "outputs": [
    {
     "name": "stdout",
     "output_type": "stream",
     "text": [
      "tf.Tensor([3 2 1 3 2 1 1 0], shape=(8,), dtype=int32)\n"
     ]
    }
   ],
   "source": [
    "# Print element in a revarse order\n",
    "print(x[::-1])"
   ]
  },
  {
   "cell_type": "code",
   "execution_count": 25,
   "id": "1d77fb93-eb08-4e1f-9e20-25fc8bda26bb",
   "metadata": {},
   "outputs": [
    {
     "name": "stdout",
     "output_type": "stream",
     "text": [
      "tf.Tensor([0 2], shape=(2,), dtype=int32)\n"
     ]
    }
   ],
   "source": [
    "# We can gather the specific indices from a vector.\n",
    "\n",
    "# We create a vector with the numbers of indexes we want to collect.\n",
    "indices = tf.constant([0,3])\n",
    "\n",
    "# We use .gather to collect from x the values from the indexes.\n",
    "x_ind = tf.gather(x, indices)\n",
    "print(x_ind)"
   ]
  },
  {
   "cell_type": "markdown",
   "id": "ba322a6b-3ae7-40e1-a42b-2a7d532a89b2",
   "metadata": {
    "tags": []
   },
   "source": [
    "## Tensor Reshaping"
   ]
  },
  {
   "cell_type": "code",
   "execution_count": 26,
   "id": "c1920132-86ae-4707-995c-1c25a8744e53",
   "metadata": {},
   "outputs": [
    {
     "name": "stdout",
     "output_type": "stream",
     "text": [
      "tf.Tensor([0 1 2 3 4 5 6 7 8], shape=(9,), dtype=int32)\n"
     ]
    }
   ],
   "source": [
    "# Vector of nine elements\n",
    "x = tf.range(9)\n",
    "print(x)"
   ]
  },
  {
   "cell_type": "code",
   "execution_count": 27,
   "id": "184ee22b-dbe6-46ef-81ee-d9aa2f0ad282",
   "metadata": {},
   "outputs": [
    {
     "name": "stdout",
     "output_type": "stream",
     "text": [
      "tf.Tensor(\n",
      "[[0 1 2]\n",
      " [3 4 5]\n",
      " [6 7 8]], shape=(3, 3), dtype=int32)\n"
     ]
    }
   ],
   "source": [
    "# Reshape in a 3 by 3 matrix\n",
    "x = tf.reshape(x,(3,3))\n",
    "print(x)"
   ]
  },
  {
   "cell_type": "code",
   "execution_count": 28,
   "id": "68e68d53-3c90-47f8-8cac-9f69a04d5f33",
   "metadata": {},
   "outputs": [
    {
     "name": "stdout",
     "output_type": "stream",
     "text": [
      "tf.Tensor(\n",
      "[[0 3 6]\n",
      " [1 4 7]\n",
      " [2 5 8]], shape=(3, 3), dtype=int32)\n"
     ]
    }
   ],
   "source": [
    "# Change columns to rows\n",
    "\n",
    "x = tf.transpose(x, perm=[1,0]) # perm=[1,0] swap the axis\n",
    "print(x)"
   ]
  }
 ],
 "metadata": {
  "kernelspec": {
   "display_name": "Python 3 (ipykernel)",
   "language": "python",
   "name": "python3"
  },
  "language_info": {
   "codemirror_mode": {
    "name": "ipython",
    "version": 3
   },
   "file_extension": ".py",
   "mimetype": "text/x-python",
   "name": "python",
   "nbconvert_exporter": "python",
   "pygments_lexer": "ipython3",
   "version": "3.9.15"
  }
 },
 "nbformat": 4,
 "nbformat_minor": 5
}
