{
 "cells": [
  {
   "cell_type": "code",
   "execution_count": 1,
   "id": "8bb74bf2-28a2-40b6-955b-ab03dae5a4b5",
   "metadata": {},
   "outputs": [],
   "source": [
    "\"\"\"\n",
    "We will cover how to build a neural network in TensorFlow 2.0\n",
    "using the Keras Sequential and Functional API. We also take\n",
    "a look at other details like how we obtain the output features\n",
    "from specific layers and obtaining summaries of the model etc.\n",
    "\"\"\"\n",
    "\n",
    "import tensorflow as tf\n",
    "from tensorflow import keras\n",
    "from tensorflow.keras import layers\n",
    "from tensorflow.keras.datasets import mnist"
   ]
  },
  {
   "cell_type": "code",
   "execution_count": 2,
   "id": "9b67aaeb-5148-4018-90b8-8092bca1da63",
   "metadata": {},
   "outputs": [
    {
     "name": "stdout",
     "output_type": "stream",
     "text": [
      "(60000, 28, 28)\n",
      "(60000,)\n"
     ]
    }
   ],
   "source": [
    "\"\"\"\n",
    "Train Dataset = x_train + y_train\n",
    "x_train = all the elements except ground truth column (classification column)\n",
    "y_train = only the classification column (for example survival column YES or NO)\n",
    "\n",
    "x_test = all the elements except ground truth column (classification column)\n",
    "y_test = only the classification column (for example survival column YES or NO)\n",
    "\"\"\"\n",
    "\n",
    "\n",
    "\n",
    "(x_train, y_train), (x_test, y_test) = mnist.load_data()\n",
    "print(x_train.shape)\n",
    "print(y_train.shape)"
   ]
  },
  {
   "cell_type": "code",
   "execution_count": 3,
   "id": "7bd37eb3-36bf-440d-b776-2e1eaf11a498",
   "metadata": {},
   "outputs": [],
   "source": [
    "\"\"\"\n",
    "We have (60000, 28, 28) 60000 images where all they are 28 by 28.\n",
    "We are going to send them to a neural network, so we need to flatten\n",
    "them so we have only one long column with those feature values.\n",
    "\n",
    "In order to do the above we are going to reshape the x_train and x_test\n",
    "\"\"\"\n",
    "\n",
    "# -1 means keep whatever the value is on that dimension, in this\n",
    "# case 60000. And we are going to flatten the two 28 dimemsions.\n",
    "x_train = x_train.reshape(-1, 28*28).astype(\"float32\") / 255.0 # 32 bytes = 256 bits\n",
    "x_test = x_test.reshape(-1, 28*28).astype(\"float32\") / 255.0 # 32 bytes = 256 bits"
   ]
  },
  {
   "cell_type": "code",
   "execution_count": 4,
   "id": "4b5e656e-225e-4b60-b13f-e3a1fa09da3c",
   "metadata": {},
   "outputs": [
    {
     "name": "stdout",
     "output_type": "stream",
     "text": [
      "(60000, 784)\n",
      "(10000, 784)\n"
     ]
    }
   ],
   "source": [
    "print (x_train.shape)\n",
    "print (x_test.shape)"
   ]
  },
  {
   "cell_type": "markdown",
   "id": "78c73241-e1ef-485b-b09f-99af652cd846",
   "metadata": {
    "tags": []
   },
   "source": [
    "## Creating Neural Network using Sequential API"
   ]
  },
  {
   "cell_type": "code",
   "execution_count": 5,
   "id": "46b8d83f-7c29-4056-86be-a36b9d7ca0cb",
   "metadata": {},
   "outputs": [
    {
     "name": "stdout",
     "output_type": "stream",
     "text": [
      "Model: \"sequential\"\n",
      "_________________________________________________________________\n",
      " Layer (type)                Output Shape              Param #   \n",
      "=================================================================\n",
      " dense (Dense)               (None, 512)               401920    \n",
      "                                                                 \n",
      " dense_1 (Dense)             (None, 256)               131328    \n",
      "                                                                 \n",
      " dense_2 (Dense)             (None, 10)                2570      \n",
      "                                                                 \n",
      "=================================================================\n",
      "Total params: 535,818\n",
      "Trainable params: 535,818\n",
      "Non-trainable params: 0\n",
      "_________________________________________________________________\n",
      "None\n",
      "Epoch 1/5\n",
      "1875/1875 [==============================] - 18s 9ms/step - loss: 0.1861 - accuracy: 0.9425\n",
      "Epoch 2/5\n",
      "1875/1875 [==============================] - 15s 8ms/step - loss: 0.0811 - accuracy: 0.9747\n",
      "Epoch 3/5\n",
      "1875/1875 [==============================] - 15s 8ms/step - loss: 0.0534 - accuracy: 0.9833\n",
      "Epoch 4/5\n",
      "1875/1875 [==============================] - 15s 8ms/step - loss: 0.0406 - accuracy: 0.9869\n",
      "Epoch 5/5\n",
      "1875/1875 [==============================] - 16s 8ms/step - loss: 0.0327 - accuracy: 0.9895\n",
      "313/313 - 1s - loss: 0.0831 - accuracy: 0.9766 - 979ms/epoch - 3ms/step\n"
     ]
    },
    {
     "data": {
      "text/plain": [
       "[0.08310019969940186, 0.9765999913215637]"
      ]
     },
     "execution_count": 5,
     "metadata": {},
     "output_type": "execute_result"
    }
   ],
   "source": [
    "\"\"\"\n",
    "Creating a neural network using sequential API of Keras\n",
    "\n",
    "Sequential API (Very convenient, now very flexible)\n",
    "\"\"\"\n",
    "\n",
    "model = keras.Sequential(\n",
    "    [\n",
    "        keras.Input(shape=28*28),\n",
    "        layers.Dense(512, activation='relu'),\n",
    "        layers.Dense(256, activation='relu'),\n",
    "        layers.Dense(10) # Output layer don't need activation function\n",
    "        \n",
    "    ]   \n",
    ")\n",
    "\n",
    "# I must have keras.Input in order to print model summary\n",
    "# at this point. Otherwise I must put it after model.fit \n",
    "# at the end of this block.\n",
    "print(model.summary())\n",
    "\n",
    "model.compile(\n",
    "    loss=keras.losses.SparseCategoricalCrossentropy(from_logits=True),\n",
    "    optimizer = keras.optimizers.Adam(learning_rate=0.001),\n",
    "    metrics=[\"accuracy\"]\n",
    ")\n",
    "\n",
    "model.fit(x_train, y_train, batch_size=32, epochs=5)\n",
    "model.evaluate(x_test, y_test, batch_size=32, verbose=2)"
   ]
  },
  {
   "cell_type": "code",
   "execution_count": 6,
   "id": "f9a83df1-3eeb-4f09-8e3f-fe2e8a83835e",
   "metadata": {},
   "outputs": [
    {
     "name": "stdout",
     "output_type": "stream",
     "text": [
      "Model: \"sequential_1\"\n",
      "_________________________________________________________________\n",
      " Layer (type)                Output Shape              Param #   \n",
      "=================================================================\n",
      " dense_3 (Dense)             (None, 512)               401920    \n",
      "                                                                 \n",
      "=================================================================\n",
      "Total params: 401,920\n",
      "Trainable params: 401,920\n",
      "Non-trainable params: 0\n",
      "_________________________________________________________________\n",
      "None\n"
     ]
    }
   ],
   "source": [
    "\"\"\"\n",
    "Adding layers and print model summary in the middle.\n",
    "So we can check the network at any stage.\n",
    "\"\"\"\n",
    "\n",
    "model = keras.Sequential()\n",
    "model.add(keras.Input(shape=(28*28)))\n",
    "model.add(layers.Dense(512, activation='relu'))\n",
    "print(model.summary())\n",
    "model.add(layers.Dense(256, activation='relu'))\n",
    "model.add(layers.Dense(10))"
   ]
  },
  {
   "cell_type": "markdown",
   "id": "70051643-a5ac-480a-b7cb-629374d1e0dd",
   "metadata": {
    "tags": []
   },
   "source": [
    "## Creating Neural Network using Functional API"
   ]
  },
  {
   "cell_type": "code",
   "execution_count": 7,
   "id": "3ec9663e-4d1f-454e-8649-3cc8bd374c8d",
   "metadata": {},
   "outputs": [
    {
     "name": "stdout",
     "output_type": "stream",
     "text": [
      "Model: \"model\"\n",
      "_________________________________________________________________\n",
      " Layer (type)                Output Shape              Param #   \n",
      "=================================================================\n",
      " Input (InputLayer)          [(None, 784)]             0         \n",
      "                                                                 \n",
      " 1st_layer (Dense)           (None, 512)               401920    \n",
      "                                                                 \n",
      " 2nd_layer (Dense)           (None, 256)               131328    \n",
      "                                                                 \n",
      " Output (Dense)              (None, 10)                2570      \n",
      "                                                                 \n",
      "=================================================================\n",
      "Total params: 535,818\n",
      "Trainable params: 535,818\n",
      "Non-trainable params: 0\n",
      "_________________________________________________________________\n",
      "None\n",
      "Epoch 1/5\n",
      "1875/1875 [==============================] - 16s 8ms/step - loss: 0.1886 - accuracy: 0.9425\n",
      "Epoch 2/5\n",
      "1875/1875 [==============================] - 15s 8ms/step - loss: 0.0791 - accuracy: 0.9756\n",
      "Epoch 3/5\n",
      "1875/1875 [==============================] - 16s 8ms/step - loss: 0.0550 - accuracy: 0.9823\n",
      "Epoch 4/5\n",
      "1875/1875 [==============================] - 15s 8ms/step - loss: 0.0413 - accuracy: 0.9868\n",
      "Epoch 5/5\n",
      "1875/1875 [==============================] - 16s 8ms/step - loss: 0.0339 - accuracy: 0.9890\n",
      "313/313 - 1s - loss: 0.0741 - accuracy: 0.9791 - 855ms/epoch - 3ms/step\n"
     ]
    },
    {
     "data": {
      "text/plain": [
       "[0.07410307973623276, 0.9790999889373779]"
      ]
     },
     "execution_count": 7,
     "metadata": {},
     "output_type": "execute_result"
    }
   ],
   "source": [
    "\"\"\"\n",
    "Creating a neural network using functional API of Keras\n",
    "\n",
    "Functional API (A bit more flexible)\n",
    "\"\"\"\n",
    "\n",
    "inputs = keras.Input(shape=(28*28), name='Input')\n",
    "x = layers.Dense(512, activation='relu', name='1st_layer')(inputs)\n",
    "x = layers.Dense(256, activation='relu',  name='2nd_layer')(x)\n",
    "outputs = layers.Dense(10, activation='softmax', name='Output')(x) #softmax normalizes the output.\n",
    "# takes the inputs & outputs we are define and builds the model.\n",
    "model = keras.Model(inputs=inputs, outputs=outputs)\n",
    "\n",
    "print(model.summary())\n",
    "\n",
    "model.compile(\n",
    "    loss=keras.losses.SparseCategoricalCrossentropy(from_logits=False),\n",
    "    optimizer = keras.optimizers.Adam(learning_rate=0.001),\n",
    "    metrics=[\"accuracy\"]\n",
    ")\n",
    "\n",
    "model.fit(x_train, y_train, batch_size=32, epochs=5)\n",
    "model.evaluate(x_test, y_test, batch_size=32, verbose=2)"
   ]
  }
 ],
 "metadata": {
  "kernelspec": {
   "display_name": "Python 3 (ipykernel)",
   "language": "python",
   "name": "python3"
  },
  "language_info": {
   "codemirror_mode": {
    "name": "ipython",
    "version": 3
   },
   "file_extension": ".py",
   "mimetype": "text/x-python",
   "name": "python",
   "nbconvert_exporter": "python",
   "pygments_lexer": "ipython3",
   "version": "3.9.15"
  }
 },
 "nbformat": 4,
 "nbformat_minor": 5
}
