{
 "cells": [
  {
   "cell_type": "code",
   "execution_count": 1,
   "id": "e319e930-86ea-45a5-84dd-6a90ac81cf53",
   "metadata": {},
   "outputs": [],
   "source": [
    "import os\n",
    "import warnings\n",
    "import numpy as np\n",
    "import pandas as pd\n",
    "import matplotlib.pyplot as plt\n",
    "from matplotlib import style\n",
    "import seaborn as sns\n",
    "\n",
    "from sklearn.model_selection import train_test_split\n",
    "from sklearn.model_selection import KFold\n",
    "from sklearn.model_selection import GridSearchCV\n",
    "\n",
    "from sklearn.preprocessing import LabelEncoder\n",
    "\n",
    "from keras.preprocessing.image import ImageDataGenerator\n",
    "from keras.models import Sequential\n",
    "from keras.optimizers import Adam, SGD, Adagrad, Adadelta, RMSprop\n",
    "from keras.utils import to_categorical\n",
    "\n",
    "from keras.layers import Dense\n",
    "from keras.layers import Dropout, Flatten, Activation\n",
    "from keras.layers import Conv2D, MaxPooling2D, BatchNormalization\n",
    "\n",
    "import tensorflow as tf\n",
    "import random as rn\n",
    "\n",
    "# Specifically for manipulating zipped images and getting\n",
    "# numpy arrays of pixes values of images.\n",
    "\n",
    "import cv2\n",
    "import os\n",
    "import numpy as np\n",
    "from tqdm import tqdm\n",
    "from random import shuffle\n",
    "from zipfile import ZipFile\n",
    "from PIL import Image"
   ]
  },
  {
   "cell_type": "code",
   "execution_count": 2,
   "id": "c11ef0d5-0990-4aad-a594-c2d1c7eeffa3",
   "metadata": {},
   "outputs": [],
   "source": [
    "DIR = r\"D:\\TensorFlow\\flower_photos\"\n",
    "\n",
    "X=[]\n",
    "Z=[]\n",
    "IMG_SIZE = 150\n",
    "daisy = r\"D:\\TensorFlow\\flower_photos\\daisy\"\n",
    "sunflower = r\"D:\\TensorFlow\\flower_photos\\sunflowers\"\n",
    "tulip = r\"D:\\TensorFlow\\flower_photos\\tulips\"\n",
    "dandi = r\"D:\\TensorFlow\\flower_photos\\dandelion\"\n",
    "rose = r\"D:\\TensorFlow\\flower_photos\\roses\""
   ]
  }
 ],
 "metadata": {
  "kernelspec": {
   "display_name": "Python 3 (ipykernel)",
   "language": "python",
   "name": "python3"
  },
  "language_info": {
   "codemirror_mode": {
    "name": "ipython",
    "version": 3
   },
   "file_extension": ".py",
   "mimetype": "text/x-python",
   "name": "python",
   "nbconvert_exporter": "python",
   "pygments_lexer": "ipython3",
   "version": "3.9.15"
  }
 },
 "nbformat": 4,
 "nbformat_minor": 5
}
